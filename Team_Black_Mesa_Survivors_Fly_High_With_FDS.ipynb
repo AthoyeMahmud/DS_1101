{
  "nbformat": 4,
  "nbformat_minor": 0,
  "metadata": {
    "colab": {
      "provenance": [],
      "mount_file_id": "1DayrqpdawEl2ta0S3uAcSWclJ5ESPd48",
      "authorship_tag": "ABX9TyNNkIiZYrXfSNGF0z7leV9M",
      "include_colab_link": true
    },
    "kernelspec": {
      "name": "python3",
      "display_name": "Python 3"
    },
    "language_info": {
      "name": "python"
    }
  },
  "cells": [
    {
      "cell_type": "markdown",
      "metadata": {
        "id": "view-in-github",
        "colab_type": "text"
      },
      "source": [
        "<a href=\"https://colab.research.google.com/github/AthoyeMahmud/DS_1101/blob/main/Team_Black_Mesa_Survivors_Fly_High_With_FDS.ipynb\" target=\"_parent\"><img src=\"https://colab.research.google.com/assets/colab-badge.svg\" alt=\"Open In Colab\"/></a>"
      ]
    },
    {
      "cell_type": "markdown",
      "source": [
        "##Load, Explore and Summerize"
      ],
      "metadata": {
        "id": "pSS4ThYGXrgB"
      }
    },
    {
      "cell_type": "code",
      "execution_count": 1,
      "metadata": {
        "id": "zuzKHILZWFbE",
        "colab": {
          "base_uri": "https://localhost:8080/"
        },
        "outputId": "e502c639-e8e2-470c-ac06-0a1ebd7916cb"
      },
      "outputs": [
        {
          "output_type": "stream",
          "name": "stdout",
          "text": [
            "<class 'pandas.core.frame.DataFrame'>\n",
            "RangeIndex: 116892 entries, 0 to 116891\n",
            "Data columns (total 24 columns):\n",
            " #   Column                             Non-Null Count   Dtype  \n",
            "---  ------                             --------------   -----  \n",
            " 0   Id                                 116892 non-null  int64  \n",
            " 1   satisfaction                       116892 non-null  object \n",
            " 2   Gender                             116892 non-null  object \n",
            " 3   Customer Type                      116892 non-null  object \n",
            " 4   Age                                116892 non-null  int64  \n",
            " 5   Type of Travel                     116892 non-null  object \n",
            " 6   Class                              116892 non-null  object \n",
            " 7   Flight Distance                    116892 non-null  int64  \n",
            " 8   Seat comfort                       116892 non-null  int64  \n",
            " 9   Departure/Arrival time convenient  116892 non-null  int64  \n",
            " 10  Food and drink                     116892 non-null  int64  \n",
            " 11  Gate location                      116892 non-null  int64  \n",
            " 12  Inflight wifi service              116892 non-null  int64  \n",
            " 13  Inflight entertainment             116892 non-null  int64  \n",
            " 14  Online support                     116892 non-null  int64  \n",
            " 15  Ease of Online booking             116892 non-null  int64  \n",
            " 16  On-board service                   116892 non-null  int64  \n",
            " 17  Leg room service                   116892 non-null  int64  \n",
            " 18  Baggage handling                   116892 non-null  int64  \n",
            " 19  Checkin service                    116892 non-null  int64  \n",
            " 20  Cleanliness                        116892 non-null  int64  \n",
            " 21  Online boarding                    116892 non-null  int64  \n",
            " 22  Departure Delay in Minutes         116892 non-null  int64  \n",
            " 23  Arrival Delay in Minutes           116541 non-null  float64\n",
            "dtypes: float64(1), int64(18), object(5)\n",
            "memory usage: 21.4+ MB\n",
            "<class 'pandas.core.frame.DataFrame'>\n",
            "RangeIndex: 12949 entries, 0 to 12948\n",
            "Data columns (total 23 columns):\n",
            " #   Column                             Non-Null Count  Dtype \n",
            "---  ------                             --------------  ----- \n",
            " 0   Id                                 12949 non-null  int64 \n",
            " 1   Gender                             12949 non-null  object\n",
            " 2   Customer Type                      12949 non-null  object\n",
            " 3   Age                                12949 non-null  int64 \n",
            " 4   Type of Travel                     12949 non-null  object\n",
            " 5   Class                              12949 non-null  object\n",
            " 6   Flight Distance                    12949 non-null  int64 \n",
            " 7   Seat comfort                       12949 non-null  int64 \n",
            " 8   Departure/Arrival time convenient  12949 non-null  int64 \n",
            " 9   Food and drink                     12949 non-null  int64 \n",
            " 10  Gate location                      12949 non-null  int64 \n",
            " 11  Inflight wifi service              12949 non-null  int64 \n",
            " 12  Inflight entertainment             12949 non-null  int64 \n",
            " 13  Online support                     12949 non-null  int64 \n",
            " 14  Ease of Online booking             12949 non-null  int64 \n",
            " 15  On-board service                   12949 non-null  int64 \n",
            " 16  Leg room service                   12949 non-null  int64 \n",
            " 17  Baggage handling                   12949 non-null  int64 \n",
            " 18  Checkin service                    12949 non-null  int64 \n",
            " 19  Cleanliness                        12949 non-null  int64 \n",
            " 20  Online boarding                    12949 non-null  int64 \n",
            " 21  Departure Delay in Minutes         12949 non-null  int64 \n",
            " 22  Arrival Delay in Minutes           12949 non-null  int64 \n",
            "dtypes: int64(19), object(4)\n",
            "memory usage: 2.3+ MB\n"
          ]
        },
        {
          "output_type": "execute_result",
          "data": {
            "text/plain": [
              "(None,\n",
              "        Id  satisfaction  Gender   Customer Type  Age   Type of Travel  \\\n",
              " 0   86347     satisfied    Male  Loyal Customer   50  Business travel   \n",
              " 1  115822     satisfied    Male  Loyal Customer   51  Business travel   \n",
              " 2   16351  dissatisfied    Male  Loyal Customer   14  Personal Travel   \n",
              " 3  107284     satisfied  Female  Loyal Customer   52  Business travel   \n",
              " 4    5788  dissatisfied  Female  Loyal Customer   26  Personal Travel   \n",
              " \n",
              "       Class  Flight Distance  Seat comfort  Departure/Arrival time convenient  \\\n",
              " 0  Business             1548             5                                  5   \n",
              " 1  Business             4020             5                                  5   \n",
              " 2       Eco             2328             2                                  5   \n",
              " 3  Business             3761             2                                  2   \n",
              " 4       Eco             3348             1                                  5   \n",
              " \n",
              "    ...  Online support  Ease of Online booking  On-board service  \\\n",
              " 0  ...               5                       3                 3   \n",
              " 1  ...               4                       5                 5   \n",
              " 2  ...               1                       1                 5   \n",
              " 3  ...               5                       4                 4   \n",
              " 4  ...               5                       5                 3   \n",
              " \n",
              "    Leg room service  Baggage handling  Checkin service  Cleanliness  \\\n",
              " 0                 3                 3                5            3   \n",
              " 1                 5                 5                5            5   \n",
              " 2                 3                 3                4            4   \n",
              " 3                 4                 4                4            4   \n",
              " 4                 4                 3                5            1   \n",
              " \n",
              "    Online boarding  Departure Delay in Minutes  Arrival Delay in Minutes  \n",
              " 0                4                           0                       0.0  \n",
              " 1                5                          53                      51.0  \n",
              " 2                1                           0                       4.0  \n",
              " 3                5                          61                      55.0  \n",
              " 4                5                         196                     169.0  \n",
              " \n",
              " [5 rows x 24 columns],\n",
              " None,\n",
              "        Id  Gender      Customer Type  Age   Type of Travel     Class  \\\n",
              " 0   46587  Female  disloyal Customer   22  Business travel       Eco   \n",
              " 1  124920    Male     Loyal Customer   25  Business travel  Business   \n",
              " 2   18490  Female     Loyal Customer   21  Personal Travel       Eco   \n",
              " 3   78644  Female     Loyal Customer   34  Business travel  Business   \n",
              " 4   92713    Male     Loyal Customer   39  Business travel  Business   \n",
              " \n",
              "    Flight Distance  Seat comfort  Departure/Arrival time convenient  \\\n",
              " 0             2354             2                                  2   \n",
              " 1             2855             2                                  2   \n",
              " 2             1250             4                                  4   \n",
              " 3               95             1                                  2   \n",
              " 4             3276             5                                  2   \n",
              " \n",
              "    Food and drink  ...  Online support  Ease of Online booking  \\\n",
              " 0               2  ...               2                       2   \n",
              " 1               2  ...               5                       5   \n",
              " 2               4  ...               4                       4   \n",
              " 3               2  ...               3                       3   \n",
              " 4               5  ...               5                       4   \n",
              " \n",
              "    On-board service  Leg room service  Baggage handling  Checkin service  \\\n",
              " 0                 1                 4                 3                4   \n",
              " 1                 3                 4                 1                1   \n",
              " 2                 4                 4                 4                4   \n",
              " 3                 3                 3                 1                3   \n",
              " 4                 4                 4                 4                4   \n",
              " \n",
              "    Cleanliness  Online boarding  Departure Delay in Minutes  \\\n",
              " 0            3                2                          13   \n",
              " 1            5                5                           0   \n",
              " 2            4                5                           0   \n",
              " 3            3                3                          12   \n",
              " 4            4                3                           0   \n",
              " \n",
              "    Arrival Delay in Minutes  \n",
              " 0                        23  \n",
              " 1                         5  \n",
              " 2                         0  \n",
              " 3                         9  \n",
              " 4                         0  \n",
              " \n",
              " [5 rows x 23 columns],\n",
              "        Id  satisfaction\n",
              " 0   46587  dissatisfied\n",
              " 1  124920     satisfied\n",
              " 2   18490     satisfied\n",
              " 3   78644  dissatisfied\n",
              " 4   92713     satisfied)"
            ]
          },
          "metadata": {},
          "execution_count": 1
        }
      ],
      "source": [
        "import pandas as pd\n",
        "\n",
        "# Load the train, test, and sample submission datasets\n",
        "train_path = '/content/drive/MyDrive/Code/DS_1101/Fly High With FDS/train.csv'\n",
        "test_path = '/content/drive/MyDrive/Code/DS_1101/Fly High With FDS/test.csv'\n",
        "submission_path = '/content/drive/MyDrive/Code/DS_1101/Fly High With FDS/sample_submission.csv'\n",
        "\n",
        "train_df = pd.read_csv(train_path)\n",
        "test_df = pd.read_csv(test_path)\n",
        "sample_submission_df = pd.read_csv(submission_path)\n",
        "\n",
        "# Display basic information about the datasets\n",
        "train_info = train_df.info()\n",
        "test_info = test_df.info()\n",
        "\n",
        "# Display first few rows of the train and test data\n",
        "train_head = train_df.head()\n",
        "test_head = test_df.head()\n",
        "\n",
        "# Display the first few rows of the sample submission file\n",
        "sample_submission_head = sample_submission_df.head()\n",
        "\n",
        "train_info, train_head, test_info, test_head, sample_submission_head"
      ]
    },
    {
      "cell_type": "markdown",
      "source": [
        "##Preprocessing and Modeling"
      ],
      "metadata": {
        "id": "X6wimx0ZXlie"
      }
    },
    {
      "cell_type": "code",
      "source": [
        "from sklearn.model_selection import train_test_split\n",
        "from sklearn.preprocessing import LabelEncoder\n",
        "from sklearn.impute import SimpleImputer\n",
        "\n",
        "# Dropping the ID column (not useful for modeling) from both train and test\n",
        "train_df_clean = train_df.drop(columns=['Id'])\n",
        "test_df_clean = test_df.drop(columns=['Id'])\n",
        "\n",
        "# Impute missing values in the 'Arrival Delay in Minutes' with median\n",
        "imputer = SimpleImputer(strategy='median')\n",
        "train_df_clean['Arrival Delay in Minutes'] = imputer.fit_transform(train_df_clean[['Arrival Delay in Minutes']])\n",
        "test_df_clean['Arrival Delay in Minutes'] = imputer.transform(test_df_clean[['Arrival Delay in Minutes']])\n",
        "\n",
        "# Encode categorical variables using LabelEncoder\n",
        "categorical_cols = ['Gender', 'Customer Type', 'Type of Travel', 'Class']\n",
        "\n",
        "label_encoders = {}\n",
        "for col in categorical_cols:\n",
        "    le = LabelEncoder()\n",
        "    train_df_clean[col] = le.fit_transform(train_df_clean[col])\n",
        "    test_df_clean[col] = le.transform(test_df_clean[col])\n",
        "    label_encoders[col] = le\n",
        "\n",
        "# Encode the target variable 'satisfaction'\n",
        "train_df_clean['satisfaction'] = train_df_clean['satisfaction'].map({'satisfied': 1, 'dissatisfied': 0})\n",
        "\n",
        "# Separate features and target variable\n",
        "X = train_df_clean.drop(columns=['satisfaction'])\n",
        "y = train_df_clean['satisfaction']\n",
        "\n",
        "# Split the training data into training and validation sets (80-20 split)\n",
        "X_train, X_val, y_train, y_val = train_test_split(X, y, test_size=0.2, random_state=42, stratify=y)\n",
        "\n",
        "X_train.head(), y_train.head()"
      ],
      "metadata": {
        "id": "EiI_qv1dXRQd",
        "colab": {
          "base_uri": "https://localhost:8080/"
        },
        "outputId": "4c05d33e-f332-4662-904a-2e861b1d62a1"
      },
      "execution_count": 2,
      "outputs": [
        {
          "output_type": "execute_result",
          "data": {
            "text/plain": [
              "(       Gender  Customer Type  Age  Type of Travel  Class  Flight Distance  \\\n",
              " 94821       1              1   31               0      0             2702   \n",
              " 83138       1              0   49               0      0             2301   \n",
              " 7527        1              0   24               1      1             1215   \n",
              " 15564       0              0   53               0      1              238   \n",
              " 42362       1              0   26               0      0             3123   \n",
              " \n",
              "        Seat comfort  Departure/Arrival time convenient  Food and drink  \\\n",
              " 94821             2                                  2               2   \n",
              " 83138             2                                  2               2   \n",
              " 7527              4                                  5               4   \n",
              " 15564             5                                  2               2   \n",
              " 42362             4                                  4               2   \n",
              " \n",
              "        Gate location  ...  Online support  Ease of Online booking  \\\n",
              " 94821              3  ...               1                       2   \n",
              " 83138              2  ...               5                       4   \n",
              " 7527               2  ...               1                       1   \n",
              " 15564              2  ...               2                       5   \n",
              " 42362              4  ...               5                       5   \n",
              " \n",
              "        On-board service  Leg room service  Baggage handling  Checkin service  \\\n",
              " 94821                 4                 1                 3                3   \n",
              " 83138                 4                 4                 4                5   \n",
              " 7527                  5                 2                 4                4   \n",
              " 15564                 5                 5                 5                2   \n",
              " 42362                 3                 4                 4                5   \n",
              " \n",
              "        Cleanliness  Online boarding  Departure Delay in Minutes  \\\n",
              " 94821            2                2                          34   \n",
              " 83138            4                5                           0   \n",
              " 7527             4                1                           0   \n",
              " 15564            5                4                           0   \n",
              " 42362            4                5                          52   \n",
              " \n",
              "        Arrival Delay in Minutes  \n",
              " 94821                      24.0  \n",
              " 83138                       0.0  \n",
              " 7527                        0.0  \n",
              " 15564                       1.0  \n",
              " 42362                      32.0  \n",
              " \n",
              " [5 rows x 22 columns],\n",
              " 94821    0\n",
              " 83138    1\n",
              " 7527     1\n",
              " 15564    1\n",
              " 42362    1\n",
              " Name: satisfaction, dtype: int64)"
            ]
          },
          "metadata": {},
          "execution_count": 2
        }
      ]
    },
    {
      "cell_type": "markdown",
      "source": [
        "##Basic Random Forest Classifier Model Evaluation"
      ],
      "metadata": {
        "id": "UJIW6n_5X6KO"
      }
    },
    {
      "cell_type": "code",
      "source": [
        "from sklearn.ensemble import RandomForestClassifier\n",
        "from sklearn.metrics import accuracy_score, classification_report\n",
        "\n",
        "# Initialize the Random Forest Classifier\n",
        "rf_model = RandomForestClassifier(n_estimators=100, random_state=42)\n",
        "\n",
        "# Train the model\n",
        "rf_model.fit(X_train, y_train)\n",
        "\n",
        "# Make predictions on the validation set\n",
        "y_val_pred = rf_model.predict(X_val)\n",
        "\n",
        "# Evaluate the model performance\n",
        "val_accuracy = accuracy_score(y_val, y_val_pred)\n",
        "val_classification_report = classification_report(y_val, y_val_pred)\n",
        "\n",
        "val_accuracy, val_classification_report"
      ],
      "metadata": {
        "colab": {
          "base_uri": "https://localhost:8080/"
        },
        "id": "ZUGbqHCtX5Fc",
        "outputId": "382251a7-1d33-48d6-aa72-cc83fbd4f5f8"
      },
      "execution_count": 3,
      "outputs": [
        {
          "output_type": "execute_result",
          "data": {
            "text/plain": [
              "(0.9586380940159973,\n",
              " '              precision    recall  f1-score   support\\n\\n           0       0.94      0.97      0.95     10585\\n           1       0.97      0.95      0.96     12794\\n\\n    accuracy                           0.96     23379\\n   macro avg       0.96      0.96      0.96     23379\\nweighted avg       0.96      0.96      0.96     23379\\n')"
            ]
          },
          "metadata": {},
          "execution_count": 3
        }
      ]
    },
    {
      "cell_type": "markdown",
      "source": [
        "##Prediction and Submission File Prep"
      ],
      "metadata": {
        "id": "3Z2mm2TSYuN2"
      }
    },
    {
      "cell_type": "code",
      "source": [
        "# Make predictions on the test dataset\n",
        "test_predictions = rf_model.predict(test_df_clean)\n",
        "\n",
        "# Prepare the submission file\n",
        "submission_df = pd.DataFrame({\n",
        "    'ID': test_df['Id'],\n",
        "    'satisfaction': test_predictions\n",
        "})\n",
        "\n",
        "# Convert satisfaction values back to original labels ('satisfied', 'dissatisfied')\n",
        "submission_df['satisfaction'] = submission_df['satisfaction'].map({1: 'satisfied', 0: 'dissatisfied'})\n",
        "\n",
        "# Save the submission file\n",
        "submission_file_path = '/content/drive/MyDrive/Code/DS_1101/Fly High With FDS/sample_submission.csv'\n",
        "submission_df.to_csv(submission_file_path, index=False)\n",
        "\n",
        "submission_df.head(), submission_file_path"
      ],
      "metadata": {
        "colab": {
          "base_uri": "https://localhost:8080/"
        },
        "id": "Qnr1RFKvYzjO",
        "outputId": "59431bc2-fd9e-4a14-d15b-f4f289a6adec"
      },
      "execution_count": 5,
      "outputs": [
        {
          "output_type": "execute_result",
          "data": {
            "text/plain": [
              "(       ID  satisfaction\n",
              " 0   46587  dissatisfied\n",
              " 1  124920     satisfied\n",
              " 2   18490     satisfied\n",
              " 3   78644  dissatisfied\n",
              " 4   92713     satisfied,\n",
              " '/content/drive/MyDrive/Code/DS_1101/Fly High With FDS/sample_submission.csv')"
            ]
          },
          "metadata": {},
          "execution_count": 5
        }
      ]
    }
  ]
}